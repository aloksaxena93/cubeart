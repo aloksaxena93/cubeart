{
 "cells": [
  {
   "cell_type": "code",
   "execution_count": 1,
   "metadata": {
    "collapsed": true
   },
   "outputs": [],
   "source": [
    "import math\n",
    "import numpy as np\n",
    "import matplotlib\n",
    "from matplotlib import pyplot as plt\n",
    "from scipy.spatial import ConvexHull\n",
    "from matplotlib.patches import Polygon\n",
    "from matplotlib.collections import PatchCollection\n",
    "import pickle\n",
    "from PIL import Image\n"
   ]
  },
  {
   "cell_type": "markdown",
   "metadata": {},
   "source": [
    "<h1> Create Black and White Images </h1>"
   ]
  },
  {
   "cell_type": "code",
   "execution_count": 2,
   "metadata": {
    "collapsed": true
   },
   "outputs": [],
   "source": [
    "voxel_count_width = 100\n",
    "image1 = Image.open('/Users/aloksaxena/Desktop/alok.png').convert('L').resize((voxel_count_width, voxel_count_width))\n",
    "image2 = Image.open('/Users/aloksaxena/Desktop/varun.png').convert('L').resize((voxel_count_width, voxel_count_width))\n",
    "\n",
    "black_and_white_image_1 = np.rot90((np.array(image1) < 70).astype(int), 3)\n",
    "black_and_white_image_2 = np.rot90((np.array(image2) < 70).astype(int), 2)"
   ]
  },
  {
   "cell_type": "markdown",
   "metadata": {},
   "source": [
    "<h1> Define cube dimensions and initialize cube matrix with trivial case </h1>"
   ]
  },
  {
   "cell_type": "code",
   "execution_count": 3,
   "metadata": {
    "collapsed": true
   },
   "outputs": [],
   "source": [
    "big_cube_side_length = 1\n",
    "cube_side_length = big_cube_side_length / float(voxel_count_width)\n",
    "cube_matrix = (np.random.rand(voxel_count_width, voxel_count_width, voxel_count_width) > 1.0).astype(int)\n",
    "cube_matrix[:, :, 0] = black_and_white_image_1\n",
    "cube_matrix[0, :, :] = black_and_white_image_2\n"
   ]
  },
  {
   "cell_type": "markdown",
   "metadata": {},
   "source": [
    "<h1> Define position and orientation of the camera </h1>"
   ]
  },
  {
   "cell_type": "code",
   "execution_count": 4,
   "metadata": {
    "collapsed": true
   },
   "outputs": [],
   "source": [
    "# optical parameters\n",
    "focal_length = 1.0\n",
    "sensor_width = 1.0\n",
    "\n",
    "# position / orientation parameters\n",
    "camera_position = (0, 0, -1.5)\n",
    "rotation_x_axis = 0\n",
    "rotation_y_axis = 0\n",
    "rotation_z_axis = 0"
   ]
  },
  {
   "cell_type": "code",
   "execution_count": null,
   "metadata": {
    "collapsed": true
   },
   "outputs": [],
   "source": []
  },
  {
   "cell_type": "markdown",
   "metadata": {},
   "source": [
    "<h1> Determine voxel image coordinates (polygons) in a vectorized fashion </h1>"
   ]
  },
  {
   "cell_type": "markdown",
   "metadata": {},
   "source": [
    "<h2> Get cube matrix voxel world coordinates </h2>"
   ]
  },
  {
   "cell_type": "code",
   "execution_count": null,
   "metadata": {
    "collapsed": true
   },
   "outputs": [],
   "source": []
  },
  {
   "cell_type": "code",
   "execution_count": 5,
   "metadata": {
    "collapsed": true,
    "scrolled": true
   },
   "outputs": [],
   "source": [
    "xv, yv, zv = np.meshgrid(np.arange(100), np.arange(100), np.arange(100))\n",
    "cube_matrix_voxel_positions = np.stack([yv, xv, zv], axis=3)\n",
    "cube_matrix_voxel_world_coordinates = np.zeros((voxel_count_width, voxel_count_width, voxel_count_width, 24))\n",
    "\n",
    "# point 1\n",
    "cube_matrix_voxel_world_coordinates[:,:,:,0] = (cube_matrix_voxel_positions[:,:,:,0] - 0.5 * voxel_count_width) * cube_side_length\n",
    "cube_matrix_voxel_world_coordinates[:,:,:,1] = (cube_matrix_voxel_positions[:,:,:,1] - 0.5 * voxel_count_width) * cube_side_length\n",
    "cube_matrix_voxel_world_coordinates[:,:,:,2] = (cube_matrix_voxel_positions[:,:,:,2] - 0.5 * voxel_count_width) * cube_side_length   \n",
    "\n",
    "# point 2\n",
    "cube_matrix_voxel_world_coordinates[:,:,:,3] = (cube_matrix_voxel_positions[:,:,:,0] - 0.5 * voxel_count_width) * cube_side_length\n",
    "cube_matrix_voxel_world_coordinates[:,:,:,4] = (cube_matrix_voxel_positions[:,:,:,1] - 0.5 * voxel_count_width + 1) * cube_side_length\n",
    "cube_matrix_voxel_world_coordinates[:,:,:,5] = (cube_matrix_voxel_positions[:,:,:,2] - 0.5 * voxel_count_width) * cube_side_length\n",
    "\n",
    "# point 3\n",
    "cube_matrix_voxel_world_coordinates[:,:,:,6] = (cube_matrix_voxel_positions[:,:,:,0] - 0.5 * voxel_count_width + 1) * cube_side_length\n",
    "cube_matrix_voxel_world_coordinates[:,:,:,7] = (cube_matrix_voxel_positions[:,:,:,1] - 0.5 * voxel_count_width + 1) * cube_side_length\n",
    "cube_matrix_voxel_world_coordinates[:,:,:,8] = (cube_matrix_voxel_positions[:,:,:,2] - 0.5 * voxel_count_width) * cube_side_length\n",
    "\n",
    "# point 4\n",
    "cube_matrix_voxel_world_coordinates[:,:,:,9] = (cube_matrix_voxel_positions[:,:,:,0] - 0.5 * voxel_count_width + 1) * cube_side_length\n",
    "cube_matrix_voxel_world_coordinates[:,:,:,10] = (cube_matrix_voxel_positions[:,:,:,1] - 0.5 * voxel_count_width) * cube_side_length\n",
    "cube_matrix_voxel_world_coordinates[:,:,:,11] = (cube_matrix_voxel_positions[:,:,:,2] - 0.5 * voxel_count_width) * cube_side_length\n",
    "\n",
    "# point 5\n",
    "cube_matrix_voxel_world_coordinates[:,:,:,12] = (cube_matrix_voxel_positions[:,:,:,0] - 0.5 * voxel_count_width + 1) * cube_side_length\n",
    "cube_matrix_voxel_world_coordinates[:,:,:,13] = (cube_matrix_voxel_positions[:,:,:,1] - 0.5 * voxel_count_width) * cube_side_length\n",
    "cube_matrix_voxel_world_coordinates[:,:,:,14] = (cube_matrix_voxel_positions[:,:,:,2] - 0.5 * voxel_count_width + 1) * cube_side_length\n",
    "\n",
    "# point 6\n",
    "cube_matrix_voxel_world_coordinates[:,:,:,15] = (cube_matrix_voxel_positions[:,:,:,0] - 0.5 * voxel_count_width + 1) * cube_side_length\n",
    "cube_matrix_voxel_world_coordinates[:,:,:,16] = (cube_matrix_voxel_positions[:,:,:,1] - 0.5 * voxel_count_width + 1) * cube_side_length\n",
    "cube_matrix_voxel_world_coordinates[:,:,:,17] = (cube_matrix_voxel_positions[:,:,:,2] - 0.5 * voxel_count_width + 1) * cube_side_length\n",
    "\n",
    "# point 7\n",
    "cube_matrix_voxel_world_coordinates[:,:,:,18] = (cube_matrix_voxel_positions[:,:,:,0] - 0.5 * voxel_count_width) * cube_side_length\n",
    "cube_matrix_voxel_world_coordinates[:,:,:,19] = (cube_matrix_voxel_positions[:,:,:,1] - 0.5 * voxel_count_width + 1) * cube_side_length\n",
    "cube_matrix_voxel_world_coordinates[:,:,:,20] = (cube_matrix_voxel_positions[:,:,:,2] - 0.5 * voxel_count_width + 1) * cube_side_length\n",
    "\n",
    "# point 8\n",
    "cube_matrix_voxel_world_coordinates[:,:,:,21] = (cube_matrix_voxel_positions[:,:,:,0] - 0.5 * voxel_count_width) * cube_side_length\n",
    "cube_matrix_voxel_world_coordinates[:,:,:,22] = (cube_matrix_voxel_positions[:,:,:,1] - 0.5 * voxel_count_width) * cube_side_length\n",
    "cube_matrix_voxel_world_coordinates[:,:,:,23] = (cube_matrix_voxel_positions[:,:,:,2] - 0.5 * voxel_count_width + 1) * cube_side_length\n"
   ]
  },
  {
   "cell_type": "code",
   "execution_count": null,
   "metadata": {
    "collapsed": true
   },
   "outputs": [],
   "source": []
  },
  {
   "cell_type": "markdown",
   "metadata": {},
   "source": [
    "<h2> Transform the voxel world coordinates based on camera position and orientation </h2>"
   ]
  },
  {
   "cell_type": "code",
   "execution_count": 6,
   "metadata": {
    "collapsed": true
   },
   "outputs": [],
   "source": [
    "def generate_rotation_matrix(rotation_x_axis, rotation_y_axis, rotation_z_axis):\n",
    "    R_x = np.array([[1, 0, 0],\n",
    "                    [0, math.cos(rotation_x_axis), -math.sin(rotation_x_axis)],\n",
    "                    [0, math.sin(rotation_x_axis), math.cos(rotation_x_axis)]])\n",
    "    \n",
    "    R_y = np.array([[math.cos(rotation_y_axis), 0, math.sin(rotation_y_axis)],\n",
    "                    [0, 1, 0],\n",
    "                    [-math.sin(rotation_y_axis), 0, math.cos(rotation_y_axis)]])\n",
    "    \n",
    "    R_z = np.array([[math.cos(rotation_z_axis), -math.sin(rotation_z_axis), 0],\n",
    "                    [math.sin(rotation_z_axis), math.cos(rotation_z_axis), 0],\n",
    "                    [0, 0, 1]])\n",
    "    \n",
    "    R = np.dot(np.dot(R_x, R_y), R_z)\n",
    "    return R\n",
    "    \n",
    "    "
   ]
  },
  {
   "cell_type": "code",
   "execution_count": 7,
   "metadata": {
    "collapsed": true
   },
   "outputs": [],
   "source": [
    "R = generate_rotation_matrix(rotation_x_axis, rotation_y_axis, rotation_z_axis)\n",
    "broadcasted_R = np.broadcast_to(R.T, (100,100,100,3,3)).T\n",
    "transformed_cube_matrix_voxel_world_coordinates = np.zeros((voxel_count_width, voxel_count_width, voxel_count_width, 24))\n",
    "for i in range(8):\n",
    "    cube_matrix_section = cube_matrix_voxel_world_coordinates[:,:,:,3*i:3*(i+1)].T[:,np.newaxis,:,:,:]\n",
    "    transformed_cube_matrix_voxel_world_coordinates[:,:,:,3*i:3*(i+1)] = np.squeeze(np.einsum('abcde,bfcde->afcde', broadcasted_R, cube_matrix_section).T)\n",
    "    transformed_cube_matrix_voxel_world_coordinates[:,:,:,3*i] = transformed_cube_matrix_voxel_world_coordinates[:,:,:,3*i] - camera_position[0]\n",
    "    transformed_cube_matrix_voxel_world_coordinates[:,:,:,3*i+1] = transformed_cube_matrix_voxel_world_coordinates[:,:,:,3*i+1] - camera_position[1]\n",
    "    transformed_cube_matrix_voxel_world_coordinates[:,:,:,3*i+2] = transformed_cube_matrix_voxel_world_coordinates[:,:,:,3*i+2] - camera_position[2]"
   ]
  },
  {
   "cell_type": "code",
   "execution_count": null,
   "metadata": {
    "collapsed": true
   },
   "outputs": [],
   "source": []
  },
  {
   "cell_type": "code",
   "execution_count": null,
   "metadata": {
    "collapsed": true
   },
   "outputs": [],
   "source": []
  },
  {
   "cell_type": "markdown",
   "metadata": {},
   "source": [
    "<h2> Get voxel image coordinates (polygons) for every single voxel in this perspective </h2>"
   ]
  },
  {
   "cell_type": "code",
   "execution_count": 8,
   "metadata": {
    "collapsed": true,
    "scrolled": true
   },
   "outputs": [],
   "source": [
    "cube_matrix_voxel_image_coordinates = np.zeros([voxel_count_width, voxel_count_width, voxel_count_width, 16])\n",
    "for i in range(8):\n",
    "    cube_matrix_voxel_image_coordinates[:,:,:,2*i] = transformed_cube_matrix_voxel_world_coordinates[:,:,:,3*i] * focal_length / transformed_cube_matrix_voxel_world_coordinates[:,:,:,3*i+2]\n",
    "    cube_matrix_voxel_image_coordinates[:,:,:,2*i+1] = transformed_cube_matrix_voxel_world_coordinates[:,:,:,3*i+1] * focal_length / transformed_cube_matrix_voxel_world_coordinates[:,:,:,3*i+2]\n",
    "cube_matrix_voxel_image_coordinates = cube_matrix_voxel_image_coordinates.reshape(100,100,100,8,2)"
   ]
  },
  {
   "cell_type": "code",
   "execution_count": 9,
   "metadata": {},
   "outputs": [
    {
     "name": "stdout",
     "output_type": "stream",
     "text": [
      "0\n",
      "10\n",
      "20\n",
      "30\n",
      "40\n",
      "50\n",
      "60\n",
      "70\n",
      "80\n",
      "90\n"
     ]
    }
   ],
   "source": [
    "polygon_mapping = {}\n",
    "for x in range(voxel_count_width):\n",
    "    if x % 10 == 0:\n",
    "        print(x)\n",
    "    for y in range(voxel_count_width):\n",
    "        for z in range(voxel_count_width):\n",
    "            voxel_vertex_image_coordinates = cube_matrix_voxel_image_coordinates[x,y,z,:,:]\n",
    "            convex_hull = ConvexHull(voxel_vertex_image_coordinates)\n",
    "            polygon = Polygon(convex_hull.points[convex_hull.vertices], True)\n",
    "            polygon_mapping[','.join([str(i) for i in [x, y, z]])] = polygon\n",
    "            "
   ]
  },
  {
   "cell_type": "code",
   "execution_count": null,
   "metadata": {
    "collapsed": true
   },
   "outputs": [],
   "source": []
  },
  {
   "cell_type": "code",
   "execution_count": null,
   "metadata": {
    "collapsed": true
   },
   "outputs": [],
   "source": []
  },
  {
   "cell_type": "code",
   "execution_count": 12,
   "metadata": {
    "collapsed": true
   },
   "outputs": [],
   "source": [
    "polygons = []\n",
    "for x in range(voxel_count_width):\n",
    "    for y in range(voxel_count_width):\n",
    "        for z in range(voxel_count_width):\n",
    "            if cube_matrix[x, y, z]:\n",
    "                polygon = polygon_mapping[','.join([str(i) for i in [x, y, z]])]\n",
    "                polygons.append(polygon)"
   ]
  },
  {
   "cell_type": "markdown",
   "metadata": {
    "collapsed": true
   },
   "source": [
    "<h3> Save cached polygons to disk </h3>"
   ]
  },
  {
   "cell_type": "code",
   "execution_count": 14,
   "metadata": {},
   "outputs": [],
   "source": [
    "pickle.dump(polygon_mapping, open('./cached_polygons/polygon_mapping_perspective_0.pkl', 'wb'))"
   ]
  },
  {
   "cell_type": "markdown",
   "metadata": {
    "collapsed": true,
    "scrolled": true
   },
   "source": [
    "<h1> Visualize Trivial Arrangement </h1>"
   ]
  },
  {
   "cell_type": "code",
   "execution_count": 13,
   "metadata": {
    "scrolled": false
   },
   "outputs": [
    {
     "data": {
      "image/png": "[encoded data removed]",
      "text/plain": [
       "<matplotlib.figure.Figure at 0x60aab27d0>"
      ]
     },
     "metadata": {},
     "output_type": "display_data"
    }
   ],
   "source": [
    "fig, ax = plt.subplots(figsize=(10, 10))\n",
    "plt.xlim(-0.7, 0.7)\n",
    "plt.ylim(-0.7, 0.7)\n",
    "\n",
    "p = PatchCollection(polygons, cmap=matplotlib.cm.jet, alpha=1.0)\n",
    "# p.set_array(np.array(colors))\n",
    "ax.add_collection(p)\n",
    "plt.show()  "
   ]
  },
  {
   "cell_type": "code",
   "execution_count": null,
   "metadata": {
    "collapsed": true,
    "scrolled": true
   },
   "outputs": [],
   "source": []
  },
  {
   "cell_type": "markdown",
   "metadata": {
    "collapsed": true
   },
   "source": [
    "<h1> "
   ]
  },
  {
   "cell_type": "code",
   "execution_count": null,
   "metadata": {},
   "outputs": [],
   "source": [
    "polygons = []\n",
    "for x in range(voxel_count_width):\n",
    "    for y in range(voxel_count_width):\n",
    "        if pixel_populated(x, y):\n",
    "            for z in range(voxel_count_width):\n",
    "                \n",
    "                \n",
    "                "
   ]
  },
  {
   "cell_type": "code",
   "execution_count": null,
   "metadata": {
    "collapsed": true
   },
   "outputs": [],
   "source": []
  },
  {
   "cell_type": "code",
   "execution_count": null,
   "metadata": {
    "collapsed": true
   },
   "outputs": [],
   "source": []
  },
  {
   "cell_type": "code",
   "execution_count": null,
   "metadata": {
    "collapsed": true
   },
   "outputs": [],
   "source": []
  }
 ],
 "metadata": {
  "kernelspec": {
   "display_name": "Python 2",
   "language": "python",
   "name": "python2"
  },
  "language_info": {
   "codemirror_mode": {
    "name": "ipython",
    "version": 2
   },
   "file_extension": ".py",
   "mimetype": "text/x-python",
   "name": "python",
   "nbconvert_exporter": "python",
   "pygments_lexer": "ipython2",
   "version": "2.7.14"
  }
 },
 "nbformat": 4,
 "nbformat_minor": 2
}
