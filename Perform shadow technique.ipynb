{
 "cells": [
  {
   "cell_type": "markdown",
   "metadata": {},
   "source": [
    "<h1> Shadow Technique </h1>"
   ]
  },
  {
   "cell_type": "markdown",
   "metadata": {},
   "source": [
    "In this notebook, we will perform the shadow technique to get close to the optimal solution. Let $C$ be our cube, and let $S_1$ and $S_2$ be two adjacent sides of $C$. Let $p_1$ and $p_2$ be the cameras that view the cube from $S_1$ and $S_2$, respectively. Consider a voxel $v$ in the cube, and let f(p, v) be the 2D polygon that the voxel $v$ makes on the image formed by the camera placed at $p$. \n",
    "\n",
    "Now consider a (square) 2D polygon that belongs to the image which $p_1$ should see. Let $V$ be the set of all voxels in $C$ such that for any $v \\in V$, $f(p_1, V)$ belongs to this polygon. For each individual $v \\in V$, we want to check that f(p_2, v) belongs to a polygon which in turn belongs to the image which $p_2$ should see. If this check comes out to true, then $v$ should be populated with a solid small cube. \n",
    "\n",
    "This process needs to be repeated for all square 2D polygons that belong to the image which $p_1$ should see"
   ]
  },
  {
   "cell_type": "code",
   "execution_count": null,
   "metadata": {
    "collapsed": true
   },
   "outputs": [],
   "source": []
  },
  {
   "cell_type": "code",
   "execution_count": null,
   "metadata": {
    "collapsed": true
   },
   "outputs": [],
   "source": []
  },
  {
   "cell_type": "code",
   "execution_count": null,
   "metadata": {
    "collapsed": true
   },
   "outputs": [],
   "source": []
  },
  {
   "cell_type": "code",
   "execution_count": null,
   "metadata": {
    "collapsed": true
   },
   "outputs": [],
   "source": []
  },
  {
   "cell_type": "code",
   "execution_count": null,
   "metadata": {
    "collapsed": true
   },
   "outputs": [],
   "source": []
  },
  {
   "cell_type": "code",
   "execution_count": null,
   "metadata": {
    "collapsed": true
   },
   "outputs": [],
   "source": []
  }
 ],
 "metadata": {
  "kernelspec": {
   "display_name": "Python 3",
   "language": "python",
   "name": "python3"
  },
  "language_info": {
   "codemirror_mode": {
    "name": "ipython",
    "version": 3
   },
   "file_extension": ".py",
   "mimetype": "text/x-python",
   "name": "python",
   "nbconvert_exporter": "python",
   "pygments_lexer": "ipython3",
   "version": "3.7.0"
  }
 },
 "nbformat": 4,
 "nbformat_minor": 2
}
