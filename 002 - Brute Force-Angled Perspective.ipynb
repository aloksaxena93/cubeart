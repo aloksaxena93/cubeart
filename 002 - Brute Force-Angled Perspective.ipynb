{
 "cells": [
  {
   "cell_type": "code",
   "execution_count": 1,
   "metadata": {
    "collapsed": true
   },
   "outputs": [],
   "source": [
    "import math\n",
    "import numpy as np\n",
    "import matplotlib\n",
    "from matplotlib import pyplot as plt\n",
    "from scipy.spatial import ConvexHull\n",
    "from matplotlib.patches import Polygon\n",
    "from matplotlib.collections import PatchCollection, LineCollection\n",
    "import numpy\n",
    "from PIL import Image, ImageDraw"
   ]
  },
  {
   "cell_type": "markdown",
   "metadata": {},
   "source": [
    "<h1> Create Black and White Images </h1>"
   ]
  },
  {
   "cell_type": "code",
   "execution_count": 2,
   "metadata": {
    "collapsed": true
   },
   "outputs": [],
   "source": [
    "voxel_count_width = 100\n",
    "image1 = Image.open('/Users/aloksaxena/Desktop/alok_1.png').convert('L').resize((voxel_count_width, voxel_count_width))\n",
    "image2 = Image.open('/Users/aloksaxena/Desktop/alok_2.png').convert('L').resize((voxel_count_width, voxel_count_width))\n",
    "image3 = Image.open('/Users/aloksaxena/Desktop/alok_3.png').convert('L').resize((voxel_count_width, voxel_count_width))\n",
    "\n",
    "black_and_white_image_1 = np.rot90((np.array(image1) < 70).astype(int), 3)\n",
    "black_and_white_image_2 = np.rot90((np.array(image2) < 120).astype(int), 2)\n",
    "black_and_white_image_3 = np.rot90((np.array(image3) < 120).astype(int), 2)"
   ]
  },
  {
   "cell_type": "code",
   "execution_count": null,
   "metadata": {
    "collapsed": true
   },
   "outputs": [],
   "source": []
  },
  {
   "cell_type": "code",
   "execution_count": null,
   "metadata": {
    "collapsed": true
   },
   "outputs": [],
   "source": []
  },
  {
   "cell_type": "markdown",
   "metadata": {},
   "source": [
    "<h1> Define cube dimensions and initialize cube matrix with trivial case </h1>"
   ]
  },
  {
   "cell_type": "code",
   "execution_count": 3,
   "metadata": {
    "collapsed": true
   },
   "outputs": [],
   "source": [
    "big_cube_side_length = 1\n",
    "cube_side_length = big_cube_side_length / float(voxel_count_width)\n",
    "cube_matrix = (np.random.rand(voxel_count_width, voxel_count_width, voxel_count_width) > 1.0).astype(int)\n",
    "cube_matrix[:, :, 0] = black_and_white_image_1\n",
    "cube_matrix[0, :, :] = black_and_white_image_2\n",
    "cube_matrix[:, 0, :] = black_and_white_image_3\n"
   ]
  },
  {
   "cell_type": "markdown",
   "metadata": {},
   "source": [
    "<h1> Define position of the camera </h1>"
   ]
  },
  {
   "cell_type": "code",
   "execution_count": 4,
   "metadata": {
    "collapsed": true
   },
   "outputs": [],
   "source": [
    "distance_from_camera_to_closest_face = 2.0\n",
    "focal_length = 1.0\n",
    "sensor_width = 1.0"
   ]
  },
  {
   "cell_type": "markdown",
   "metadata": {},
   "source": [
    "<h1> Construct image from real world coordinates of cube matrix and camera parameters </h1>"
   ]
  },
  {
   "cell_type": "markdown",
   "metadata": {},
   "source": [
    "<h1> Method for achieving this in a vectorized fashion </h1>"
   ]
  },
  {
   "cell_type": "markdown",
   "metadata": {},
   "source": [
    "<h2> Get cube matrix voxel world coordinates </h2>"
   ]
  },
  {
   "cell_type": "code",
   "execution_count": null,
   "metadata": {
    "collapsed": true
   },
   "outputs": [],
   "source": []
  },
  {
   "cell_type": "code",
   "execution_count": 5,
   "metadata": {
    "collapsed": true,
    "scrolled": true
   },
   "outputs": [],
   "source": [
    "xv, yv, zv = np.meshgrid(np.arange(100), np.arange(100), np.arange(100))\n",
    "cube_matrix_voxel_positions = np.stack([yv, xv, zv], axis=3)\n",
    "cube_matrix_voxel_world_coordinates = np.zeros((voxel_count_width, voxel_count_width, voxel_count_width, 24))\n",
    "\n",
    "# point 1\n",
    "cube_matrix_voxel_world_coordinates[:,:,:,0] = (cube_matrix_voxel_positions[:,:,:,0] - 0.5 * voxel_count_width) * cube_side_length\n",
    "cube_matrix_voxel_world_coordinates[:,:,:,1] = (cube_matrix_voxel_positions[:,:,:,1] - 0.5 * voxel_count_width) * cube_side_length\n",
    "cube_matrix_voxel_world_coordinates[:,:,:,2] = (cube_matrix_voxel_positions[:,:,:,2] - 0.5 * voxel_count_width) * cube_side_length   \n",
    "\n",
    "# point 2\n",
    "cube_matrix_voxel_world_coordinates[:,:,:,3] = (cube_matrix_voxel_positions[:,:,:,0] - 0.5 * voxel_count_width) * cube_side_length\n",
    "cube_matrix_voxel_world_coordinates[:,:,:,4] = (cube_matrix_voxel_positions[:,:,:,1] - 0.5 * voxel_count_width + 1) * cube_side_length\n",
    "cube_matrix_voxel_world_coordinates[:,:,:,5] = (cube_matrix_voxel_positions[:,:,:,2] - 0.5 * voxel_count_width) * cube_side_length\n",
    "\n",
    "# point 3\n",
    "cube_matrix_voxel_world_coordinates[:,:,:,6] = (cube_matrix_voxel_positions[:,:,:,0] - 0.5 * voxel_count_width + 1) * cube_side_length\n",
    "cube_matrix_voxel_world_coordinates[:,:,:,7] = (cube_matrix_voxel_positions[:,:,:,1] - 0.5 * voxel_count_width + 1) * cube_side_length\n",
    "cube_matrix_voxel_world_coordinates[:,:,:,8] = (cube_matrix_voxel_positions[:,:,:,2] - 0.5 * voxel_count_width) * cube_side_length\n",
    "\n",
    "# point 4\n",
    "cube_matrix_voxel_world_coordinates[:,:,:,9] = (cube_matrix_voxel_positions[:,:,:,0] - 0.5 * voxel_count_width + 1) * cube_side_length\n",
    "cube_matrix_voxel_world_coordinates[:,:,:,10] = (cube_matrix_voxel_positions[:,:,:,1] - 0.5 * voxel_count_width) * cube_side_length\n",
    "cube_matrix_voxel_world_coordinates[:,:,:,11] = (cube_matrix_voxel_positions[:,:,:,2] - 0.5 * voxel_count_width) * cube_side_length\n",
    "\n",
    "# point 5\n",
    "cube_matrix_voxel_world_coordinates[:,:,:,12] = (cube_matrix_voxel_positions[:,:,:,0] - 0.5 * voxel_count_width + 1) * cube_side_length\n",
    "cube_matrix_voxel_world_coordinates[:,:,:,13] = (cube_matrix_voxel_positions[:,:,:,1] - 0.5 * voxel_count_width) * cube_side_length\n",
    "cube_matrix_voxel_world_coordinates[:,:,:,14] = (cube_matrix_voxel_positions[:,:,:,2] - 0.5 * voxel_count_width + 1) * cube_side_length\n",
    "\n",
    "# point 6\n",
    "cube_matrix_voxel_world_coordinates[:,:,:,15] = (cube_matrix_voxel_positions[:,:,:,0] - 0.5 * voxel_count_width + 1) * cube_side_length\n",
    "cube_matrix_voxel_world_coordinates[:,:,:,16] = (cube_matrix_voxel_positions[:,:,:,1] - 0.5 * voxel_count_width + 1) * cube_side_length\n",
    "cube_matrix_voxel_world_coordinates[:,:,:,17] = (cube_matrix_voxel_positions[:,:,:,2] - 0.5 * voxel_count_width + 1) * cube_side_length\n",
    "\n",
    "# point 7\n",
    "cube_matrix_voxel_world_coordinates[:,:,:,18] = (cube_matrix_voxel_positions[:,:,:,0] - 0.5 * voxel_count_width) * cube_side_length\n",
    "cube_matrix_voxel_world_coordinates[:,:,:,19] = (cube_matrix_voxel_positions[:,:,:,1] - 0.5 * voxel_count_width + 1) * cube_side_length\n",
    "cube_matrix_voxel_world_coordinates[:,:,:,20] = (cube_matrix_voxel_positions[:,:,:,2] - 0.5 * voxel_count_width + 1) * cube_side_length\n",
    "\n",
    "# point 8\n",
    "cube_matrix_voxel_world_coordinates[:,:,:,21] = (cube_matrix_voxel_positions[:,:,:,0] - 0.5 * voxel_count_width) * cube_side_length\n",
    "cube_matrix_voxel_world_coordinates[:,:,:,22] = (cube_matrix_voxel_positions[:,:,:,1] - 0.5 * voxel_count_width) * cube_side_length\n",
    "cube_matrix_voxel_world_coordinates[:,:,:,23] = (cube_matrix_voxel_positions[:,:,:,2] - 0.5 * voxel_count_width + 1) * cube_side_length\n"
   ]
  },
  {
   "cell_type": "code",
   "execution_count": null,
   "metadata": {
    "collapsed": true
   },
   "outputs": [],
   "source": []
  },
  {
   "cell_type": "markdown",
   "metadata": {},
   "source": [
    "<h2> Transform the voxel world coordinates based on camera position and orientation </h2>"
   ]
  },
  {
   "cell_type": "code",
   "execution_count": 6,
   "metadata": {
    "collapsed": true
   },
   "outputs": [],
   "source": [
    "def generate_rotation_matrix(rotation_x_axis, rotation_y_axis, rotation_z_axis):\n",
    "    R_x = np.array([[1, 0, 0],\n",
    "                    [0, math.cos(rotation_x_axis), -math.sin(rotation_x_axis)],\n",
    "                    [0, math.sin(rotation_x_axis), math.cos(rotation_x_axis)]])\n",
    "    \n",
    "    R_y = np.array([[math.cos(rotation_y_axis), 0, math.sin(rotation_y_axis)],\n",
    "                    [0, 1, 0],\n",
    "                    [-math.sin(rotation_y_axis), 0, math.cos(rotation_y_axis)]])\n",
    "    \n",
    "    R_z = np.array([[math.cos(rotation_z_axis), -math.sin(rotation_z_axis), 0],\n",
    "                    [math.sin(rotation_z_axis), math.cos(rotation_z_axis), 0],\n",
    "                    [0, 0, 1]])\n",
    "    \n",
    "    R = np.dot(np.dot(R_x, R_y), R_z)\n",
    "    return R\n",
    "    \n",
    "    "
   ]
  },
  {
   "cell_type": "code",
   "execution_count": 7,
   "metadata": {
    "collapsed": true
   },
   "outputs": [],
   "source": [
    "camera_position = (0, 0, -1.5)\n",
    "distance_from_camera_to_closest_face = 2.0\n",
    "focal_length = 1.0\n",
    "sensor_width = 1.0\n",
    "def get_cube_matrix_voxel_image_coordinates(rotation_x_axis, rotation_y_axis, rotation_z_axis):\n",
    "\n",
    "    R = generate_rotation_matrix(rotation_x_axis, rotation_y_axis, rotation_z_axis)\n",
    "    broadcasted_R = np.broadcast_to(R.T, (100,100,100,3,3)).T\n",
    "    transformed_cube_matrix_voxel_world_coordinates = np.zeros((voxel_count_width, voxel_count_width, voxel_count_width, 24))\n",
    "    for i in range(8):\n",
    "        cube_matrix_section = cube_matrix_voxel_world_coordinates[:,:,:,3*i:3*(i+1)].T[:,np.newaxis,:,:,:]\n",
    "        transformed_cube_matrix_voxel_world_coordinates[:,:,:,3*i:3*(i+1)] = np.squeeze(np.einsum('abcde,bfcde->afcde', broadcasted_R, cube_matrix_section).T)\n",
    "        transformed_cube_matrix_voxel_world_coordinates[:,:,:,3*i] = transformed_cube_matrix_voxel_world_coordinates[:,:,:,3*i] - camera_position[0]\n",
    "        transformed_cube_matrix_voxel_world_coordinates[:,:,:,3*i+1] = transformed_cube_matrix_voxel_world_coordinates[:,:,:,3*i+1] - camera_position[1]\n",
    "        transformed_cube_matrix_voxel_world_coordinates[:,:,:,3*i+2] = transformed_cube_matrix_voxel_world_coordinates[:,:,:,3*i+2] - camera_position[2]\n",
    "\n",
    "    cube_matrix_voxel_image_coordinates = np.zeros([voxel_count_width, voxel_count_width, voxel_count_width, 16])\n",
    "    for i in range(8):\n",
    "        cube_matrix_voxel_image_coordinates[:,:,:,2*i] = transformed_cube_matrix_voxel_world_coordinates[:,:,:,3*i] * focal_length / transformed_cube_matrix_voxel_world_coordinates[:,:,:,3*i+2]\n",
    "        cube_matrix_voxel_image_coordinates[:,:,:,2*i+1] = transformed_cube_matrix_voxel_world_coordinates[:,:,:,3*i+1] * focal_length / transformed_cube_matrix_voxel_world_coordinates[:,:,:,3*i+2]\n",
    "    cube_matrix_voxel_image_coordinates = cube_matrix_voxel_image_coordinates.reshape(100,100,100,8,2)\n",
    "    return cube_matrix_voxel_image_coordinates\n",
    "\n",
    "\n"
   ]
  },
  {
   "cell_type": "code",
   "execution_count": 8,
   "metadata": {
    "collapsed": true
   },
   "outputs": [],
   "source": [
    "vic_1 = get_cube_matrix_voxel_image_coordinates(0, 0, 0)\n",
    "vic_2 = get_cube_matrix_voxel_image_coordinates(0, -np.pi / 2.0, 0)\n",
    "# vic_3 = get_cube_matrix_voxel_image_coordinates(np.pi / 2.0, 0, 0)\n",
    "vic_3 = get_cube_matrix_voxel_image_coordinates(0, -np.pi / 4.0, 0)\n"
   ]
  },
  {
   "cell_type": "code",
   "execution_count": 120,
   "metadata": {
    "collapsed": true
   },
   "outputs": [],
   "source": [
    "vic_4 = get_cube_matrix_voxel_image_coordinates(np.pi / 4.0, 0, 0)\n",
    "vic_5 = get_cube_matrix_voxel_image_coordinates(0, np.pi / 4.0, 0)"
   ]
  },
  {
   "cell_type": "markdown",
   "metadata": {},
   "source": [
    "<h2> Get voxel image coordinates (polygons) for every single voxel (both perspectives) </h2>"
   ]
  },
  {
   "cell_type": "code",
   "execution_count": null,
   "metadata": {
    "collapsed": true,
    "scrolled": true
   },
   "outputs": [],
   "source": []
  },
  {
   "cell_type": "code",
   "execution_count": null,
   "metadata": {
    "collapsed": true
   },
   "outputs": [],
   "source": []
  },
  {
   "cell_type": "code",
   "execution_count": null,
   "metadata": {
    "collapsed": true,
    "scrolled": false
   },
   "outputs": [],
   "source": []
  },
  {
   "cell_type": "code",
   "execution_count": null,
   "metadata": {
    "collapsed": true,
    "scrolled": false
   },
   "outputs": [],
   "source": []
  },
  {
   "cell_type": "markdown",
   "metadata": {
    "collapsed": true
   },
   "source": [
    "<h1> Brute force three dimensional construction </h1>"
   ]
  },
  {
   "cell_type": "markdown",
   "metadata": {},
   "source": [
    "<h3> Create template image </h3>"
   ]
  },
  {
   "cell_type": "code",
   "execution_count": 9,
   "metadata": {
    "collapsed": true
   },
   "outputs": [],
   "source": [
    "img_1 = Image.new('L', (1000, 1000), 0)\n",
    "polygons_1 = []\n",
    "total_area = 0.0\n",
    "for x in range(voxel_count_width):\n",
    "    for y in range(voxel_count_width):\n",
    "        if black_and_white_image_1[x, y]:\n",
    "            voxel_vertex_image_coordinates = vic_1[x,y,0,:,:]\n",
    "            convex_hull = ConvexHull(voxel_vertex_image_coordinates)\n",
    "            p = [tuple(k) for k in (convex_hull.points[convex_hull.vertices] * 1000 + 500).astype(int)]\n",
    "            ImageDraw.Draw(img_1).polygon(p, outline=1, fill=1)\n",
    "\n",
    "mask_1 = np.array(img_1)"
   ]
  },
  {
   "cell_type": "code",
   "execution_count": 10,
   "metadata": {
    "collapsed": true
   },
   "outputs": [],
   "source": [
    "img_2 = Image.new('L', (1000, 1000), 0)\n",
    "polygons_2 = []\n",
    "total_area = 0.0\n",
    "for x in range(voxel_count_width):\n",
    "    for y in range(voxel_count_width):\n",
    "        if black_and_white_image_2[x, y]:\n",
    "            voxel_vertex_image_coordinates = vic_2[0,x,y,:,:]\n",
    "            convex_hull = ConvexHull(voxel_vertex_image_coordinates)\n",
    "            p = [tuple(k) for k in (convex_hull.points[convex_hull.vertices] * 1000 + 500).astype(int)]\n",
    "            ImageDraw.Draw(img_2).polygon(p, outline=1, fill=1)\n",
    "\n",
    "mask_2 = np.array(img_2)"
   ]
  },
  {
   "cell_type": "code",
   "execution_count": 12,
   "metadata": {
    "collapsed": true
   },
   "outputs": [],
   "source": [
    "img_3 = Image.new('L', (1000, 1000), 0)\n",
    "polygons_3 = []\n",
    "total_area = 0.0\n",
    "for x in range(voxel_count_width):\n",
    "    for y in range(voxel_count_width):\n",
    "        if black_and_white_image_3[x, y]:\n",
    "            voxel_vertex_image_coordinates = vic_1[x,0,y,:,:]\n",
    "            convex_hull = ConvexHull(voxel_vertex_image_coordinates)\n",
    "            p = [tuple(k) for k in (convex_hull.points[convex_hull.vertices] * 1000 + 500).astype(int)]\n",
    "            ImageDraw.Draw(img_3).polygon(p, outline=1, fill=1)\n",
    "\n",
    "mask_3 = np.array(img_3)"
   ]
  },
  {
   "cell_type": "code",
   "execution_count": null,
   "metadata": {
    "collapsed": true
   },
   "outputs": [],
   "source": []
  },
  {
   "cell_type": "code",
   "execution_count": null,
   "metadata": {
    "collapsed": true
   },
   "outputs": [],
   "source": []
  },
  {
   "cell_type": "code",
   "execution_count": null,
   "metadata": {},
   "outputs": [],
   "source": []
  },
  {
   "cell_type": "code",
   "execution_count": null,
   "metadata": {
    "collapsed": true
   },
   "outputs": [],
   "source": []
  },
  {
   "cell_type": "markdown",
   "metadata": {},
   "source": [
    "<h1> Three sided attempt </h1>"
   ]
  },
  {
   "cell_type": "code",
   "execution_count": 13,
   "metadata": {
    "scrolled": true
   },
   "outputs": [
    {
     "name": "stdout",
     "output_type": "stream",
     "text": [
      "(0, 0)\n",
      "(1000, 21)\n",
      "(2000, 40)\n",
      "(3000, 55)\n",
      "(4000, 69)\n",
      "(5000, 85)\n",
      "(6000, 103)\n",
      "(7000, 121)\n",
      "(8000, 135)\n",
      "(9000, 145)\n",
      "(10000, 153)\n",
      "(11000, 182)\n",
      "(12000, 193)\n",
      "(13000, 207)\n",
      "(14000, 222)\n",
      "(15000, 237)\n",
      "(16000, 252)\n",
      "(17000, 263)\n",
      "(18000, 277)\n",
      "(19000, 288)\n",
      "(20000, 301)\n",
      "(21000, 312)\n",
      "(22000, 319)\n",
      "(23000, 329)\n",
      "(24000, 342)\n",
      "(25000, 350)\n",
      "(26000, 362)\n",
      "(27000, 373)\n",
      "(28000, 385)\n",
      "(29000, 398)\n",
      "(30000, 407)\n",
      "(31000, 419)\n",
      "(32000, 431)\n",
      "(33000, 443)\n",
      "(34000, 459)\n",
      "(35000, 476)\n",
      "(36000, 488)\n",
      "(37000, 498)\n",
      "(38000, 519)\n",
      "(39000, 533)\n",
      "(40000, 544)\n",
      "(41000, 559)\n",
      "(42000, 573)\n",
      "(43000, 576)\n",
      "(44000, 585)\n",
      "(45000, 596)\n",
      "(46000, 617)\n",
      "(47000, 628)\n",
      "(48000, 639)\n",
      "(49000, 649)\n",
      "(50000, 659)\n",
      "(51000, 664)\n",
      "(52000, 669)\n",
      "(53000, 674)\n",
      "(54000, 688)\n",
      "(55000, 702)\n",
      "(56000, 709)\n",
      "(57000, 718)\n",
      "(58000, 727)\n",
      "(59000, 740)\n",
      "(60000, 746)\n",
      "(61000, 760)\n",
      "(62000, 769)\n",
      "(63000, 773)\n",
      "(64000, 789)\n",
      "(65000, 798)\n",
      "(66000, 810)\n",
      "(67000, 819)\n",
      "(68000, 830)\n",
      "(69000, 843)\n",
      "(70000, 853)\n",
      "(71000, 868)\n",
      "(72000, 880)\n",
      "(73000, 889)\n",
      "(74000, 899)\n",
      "(75000, 907)\n",
      "(76000, 922)\n",
      "(77000, 930)\n",
      "(78000, 939)\n",
      "(79000, 946)\n",
      "(80000, 952)\n",
      "(81000, 965)\n",
      "(82000, 973)\n",
      "(83000, 983)\n",
      "(84000, 993)\n",
      "(85000, 1004)\n",
      "(86000, 1007)\n",
      "(87000, 1018)\n",
      "(88000, 1029)\n",
      "(89000, 1040)\n",
      "(90000, 1047)\n",
      "(91000, 1055)\n",
      "(92000, 1065)\n",
      "(93000, 1074)\n",
      "(94000, 1080)\n",
      "(95000, 1092)\n",
      "(96000, 1101)\n",
      "(97000, 1108)\n",
      "(98000, 1128)\n",
      "(99000, 1136)\n",
      "(100000, 1146)\n",
      "(101000, 1156)\n",
      "(102000, 1164)\n",
      "(103000, 1172)\n",
      "(104000, 1176)\n",
      "(105000, 1183)\n",
      "(106000, 1190)\n",
      "(107000, 1197)\n",
      "(108000, 1203)\n",
      "(109000, 1211)\n",
      "(110000, 1222)\n",
      "(111000, 1233)\n",
      "(112000, 1241)\n",
      "(113000, 1249)\n",
      "(114000, 1263)\n",
      "(115000, 1270)\n",
      "(116000, 1277)\n",
      "(117000, 1289)\n",
      "(118000, 1297)\n",
      "(119000, 1306)\n",
      "(120000, 1310)\n"
     ]
    },
    {
     "ename": "KeyboardInterrupt",
     "evalue": "",
     "output_type": "error",
     "traceback": [
      "\u001b[0;31m---------------------------------------------------------------------------\u001b[0m",
      "\u001b[0;31mKeyboardInterrupt\u001b[0m                         Traceback (most recent call last)",
      "\u001b[0;32m<ipython-input-13-998783cca456>\u001b[0m in \u001b[0;36m<module>\u001b[0;34m()\u001b[0m\n\u001b[1;32m     33\u001b[0m     \u001b[0mmask_1_current\u001b[0m \u001b[0;34m=\u001b[0m \u001b[0mnp\u001b[0m\u001b[0;34m.\u001b[0m\u001b[0marray\u001b[0m\u001b[0;34m(\u001b[0m\u001b[0mimg_1_iter\u001b[0m\u001b[0;34m)\u001b[0m\u001b[0;34m\u001b[0m\u001b[0m\n\u001b[1;32m     34\u001b[0m     \u001b[0mintersection_1\u001b[0m \u001b[0;34m=\u001b[0m \u001b[0;34m(\u001b[0m\u001b[0mmask_1_current\u001b[0m \u001b[0;34m&\u001b[0m \u001b[0mmask_1\u001b[0m\u001b[0;34m)\u001b[0m\u001b[0;34m.\u001b[0m\u001b[0msum\u001b[0m\u001b[0;34m(\u001b[0m\u001b[0;34m)\u001b[0m\u001b[0;34m\u001b[0m\u001b[0m\n\u001b[0;32m---> 35\u001b[0;31m     \u001b[0minvalid_1\u001b[0m \u001b[0;34m=\u001b[0m \u001b[0;34m(\u001b[0m\u001b[0mmask_1_current\u001b[0m \u001b[0;34m&\u001b[0m \u001b[0;34m(\u001b[0m\u001b[0;36m1\u001b[0m\u001b[0;34m-\u001b[0m\u001b[0mmask_1\u001b[0m\u001b[0;34m)\u001b[0m\u001b[0;34m)\u001b[0m\u001b[0;34m.\u001b[0m\u001b[0msum\u001b[0m\u001b[0;34m(\u001b[0m\u001b[0;34m)\u001b[0m\u001b[0;34m\u001b[0m\u001b[0m\n\u001b[0m\u001b[1;32m     36\u001b[0m     \u001b[0mscore_1\u001b[0m \u001b[0;34m=\u001b[0m \u001b[0mintersection_1\u001b[0m \u001b[0;34m-\u001b[0m \u001b[0;36m2\u001b[0m\u001b[0;34m*\u001b[0m\u001b[0minvalid_1\u001b[0m\u001b[0;34m\u001b[0m\u001b[0m\n\u001b[1;32m     37\u001b[0m \u001b[0;34m\u001b[0m\u001b[0m\n",
      "\u001b[0;32m/Users/aloksaxena/anaconda2/lib/python2.7/site-packages/numpy/core/_methods.pyc\u001b[0m in \u001b[0;36m_sum\u001b[0;34m(a, axis, dtype, out, keepdims)\u001b[0m\n\u001b[1;32m     30\u001b[0m \u001b[0;34m\u001b[0m\u001b[0m\n\u001b[1;32m     31\u001b[0m \u001b[0;32mdef\u001b[0m \u001b[0m_sum\u001b[0m\u001b[0;34m(\u001b[0m\u001b[0ma\u001b[0m\u001b[0;34m,\u001b[0m \u001b[0maxis\u001b[0m\u001b[0;34m=\u001b[0m\u001b[0mNone\u001b[0m\u001b[0;34m,\u001b[0m \u001b[0mdtype\u001b[0m\u001b[0;34m=\u001b[0m\u001b[0mNone\u001b[0m\u001b[0;34m,\u001b[0m \u001b[0mout\u001b[0m\u001b[0;34m=\u001b[0m\u001b[0mNone\u001b[0m\u001b[0;34m,\u001b[0m \u001b[0mkeepdims\u001b[0m\u001b[0;34m=\u001b[0m\u001b[0mFalse\u001b[0m\u001b[0;34m)\u001b[0m\u001b[0;34m:\u001b[0m\u001b[0;34m\u001b[0m\u001b[0m\n\u001b[0;32m---> 32\u001b[0;31m     \u001b[0;32mreturn\u001b[0m \u001b[0mumr_sum\u001b[0m\u001b[0;34m(\u001b[0m\u001b[0ma\u001b[0m\u001b[0;34m,\u001b[0m \u001b[0maxis\u001b[0m\u001b[0;34m,\u001b[0m \u001b[0mdtype\u001b[0m\u001b[0;34m,\u001b[0m \u001b[0mout\u001b[0m\u001b[0;34m,\u001b[0m \u001b[0mkeepdims\u001b[0m\u001b[0;34m)\u001b[0m\u001b[0;34m\u001b[0m\u001b[0m\n\u001b[0m\u001b[1;32m     33\u001b[0m \u001b[0;34m\u001b[0m\u001b[0m\n\u001b[1;32m     34\u001b[0m \u001b[0;32mdef\u001b[0m \u001b[0m_prod\u001b[0m\u001b[0;34m(\u001b[0m\u001b[0ma\u001b[0m\u001b[0;34m,\u001b[0m \u001b[0maxis\u001b[0m\u001b[0;34m=\u001b[0m\u001b[0mNone\u001b[0m\u001b[0;34m,\u001b[0m \u001b[0mdtype\u001b[0m\u001b[0;34m=\u001b[0m\u001b[0mNone\u001b[0m\u001b[0;34m,\u001b[0m \u001b[0mout\u001b[0m\u001b[0;34m=\u001b[0m\u001b[0mNone\u001b[0m\u001b[0;34m,\u001b[0m \u001b[0mkeepdims\u001b[0m\u001b[0;34m=\u001b[0m\u001b[0mFalse\u001b[0m\u001b[0;34m)\u001b[0m\u001b[0;34m:\u001b[0m\u001b[0;34m\u001b[0m\u001b[0m\n",
      "\u001b[0;31mKeyboardInterrupt\u001b[0m: "
     ]
    }
   ],
   "source": [
    "img_1_current = Image.new('L', (1000, 1000), 0)\n",
    "img_2_current = Image.new('L', (1000, 1000), 0)\n",
    "img_3_current = Image.new('L', (1000, 1000), 0)\n",
    "big_cube_side_length = 1\n",
    "cube_side_length = big_cube_side_length / float(voxel_count_width)\n",
    "cube_matrix = (np.random.rand(voxel_count_width, voxel_count_width, voxel_count_width) > 1.0).astype(int)\n",
    "\n",
    "old_score_1, old_score_2, old_score_3 = 0, 0, 0\n",
    "i = 0\n",
    "while True:\n",
    "    if i % 1000 == 0:\n",
    "        print(i, cube_matrix.sum())\n",
    "    if i > 500000:\n",
    "        break\n",
    "    i += 1\n",
    "    x = int(np.random.uniform(100))\n",
    "    y = int(np.random.uniform(100))\n",
    "    z = int(np.random.uniform(100))\n",
    "    \n",
    "    voxel_vertex_image_coordinates_1 = vic_1[x, y, z, :, :]\n",
    "    voxel_vertex_image_coordinates_2 = vic_2[x, y, z, :, :]\n",
    "    voxel_vertex_image_coordinates_3 = vic_3[x, y, z, :, :]\n",
    "    \n",
    "    convex_hull_1 = ConvexHull(voxel_vertex_image_coordinates_1)\n",
    "    p_1 = [tuple(k) for k in (convex_hull_1.points[convex_hull_1.vertices] * 1000 + 500).astype(int)]\n",
    "    convex_hull_2 = ConvexHull(voxel_vertex_image_coordinates_2)\n",
    "    p_2 = [tuple(k) for k in (convex_hull_2.points[convex_hull_2.vertices] * 1000 + 500).astype(int)]\n",
    "    convex_hull_3 = ConvexHull(voxel_vertex_image_coordinates_3)\n",
    "    p_3 = [tuple(k) for k in (convex_hull_3.points[convex_hull_3.vertices] * 1000 + 500).astype(int)]\n",
    "    \n",
    "    img_1_iter = img_1_current.copy()\n",
    "    ImageDraw.Draw(img_1_iter).polygon(p_1, outline=1, fill=1)\n",
    "    mask_1_current = np.array(img_1_iter)\n",
    "    intersection_1 = (mask_1_current & mask_1).sum()\n",
    "    invalid_1 = (mask_1_current & (1-mask_1)).sum()\n",
    "    score_1 = intersection_1 - 2*invalid_1\n",
    "    \n",
    "    img_2_iter = img_2_current.copy()\n",
    "    ImageDraw.Draw(img_2_iter).polygon(p_2, outline=1, fill=1)\n",
    "    mask_2_current = np.array(img_2_iter)\n",
    "    intersection_2 = (mask_2_current & mask_2).sum()\n",
    "    invalid_2 = (mask_2_current & (1-mask_2)).sum()\n",
    "    score_2 = intersection_2 - 2*invalid_2\n",
    "    \n",
    "    img_3_iter = img_3_current.copy()\n",
    "    ImageDraw.Draw(img_3_iter).polygon(p_3, outline=1, fill=1)\n",
    "    mask_3_current = np.array(img_3_iter)\n",
    "    intersection_3 = (mask_3_current & mask_3).sum()\n",
    "    invalid_3 = (mask_3_current & (1-mask_3)).sum()\n",
    "    score_3 = intersection_3 - 2*invalid_3\n",
    "    \n",
    "    \n",
    "    if (score_1 >= old_score_1) and (score_2 >= old_score_2) and (score_3 >= old_score_3):\n",
    "        old_score_1 = score_1\n",
    "        old_score_2 = score_2\n",
    "        old_score_3 = score_3\n",
    "        img_1_current = img_1_iter\n",
    "        img_2_current = img_2_iter\n",
    "        img_3_current = img_3_iter\n",
    "        cube_matrix[x, y, z] = 1\n",
    "    \n",
    "\n"
   ]
  },
  {
   "cell_type": "code",
   "execution_count": null,
   "metadata": {
    "collapsed": true
   },
   "outputs": [],
   "source": []
  },
  {
   "cell_type": "code",
   "execution_count": 226,
   "metadata": {
    "collapsed": true
   },
   "outputs": [],
   "source": [
    "xs = [0]*len(np.arange(0, 0.525, 0.025)) + list(np.arange(0, 0.525, 0.025))"
   ]
  },
  {
   "cell_type": "code",
   "execution_count": 227,
   "metadata": {
    "collapsed": true,
    "scrolled": true
   },
   "outputs": [],
   "source": [
    "ys = list(0.5 - np.arange(0, 0.525, 0.025)) + [0]*len(np.arange(0, 0.525, 0.025))"
   ]
  },
  {
   "cell_type": "code",
   "execution_count": null,
   "metadata": {
    "collapsed": true
   },
   "outputs": [],
   "source": []
  },
  {
   "cell_type": "code",
   "execution_count": null,
   "metadata": {
    "collapsed": true
   },
   "outputs": [],
   "source": []
  },
  {
   "cell_type": "code",
   "execution_count": 16,
   "metadata": {
    "scrolled": false
   },
   "outputs": [
    {
     "data": {
      "image/png": "[encoded data removed]",
      "text/plain": [
       "<matplotlib.figure.Figure at 0x62f034050>"
      ]
     },
     "metadata": {},
     "output_type": "display_data"
    }
   ],
   "source": [
    "# for x, y in zip(xs, ys):\n",
    "vic_5 = get_cube_matrix_voxel_image_coordinates(0, -np.pi / 4, 0)\n",
    "vic = vic_5\n",
    "\n",
    "p0 = vic[0,0,0,0,:]\n",
    "p1 = vic[0,0,voxel_count_width-1,1,:]\n",
    "p2 = vic[voxel_count_width-1,0,voxel_count_width-1,2,:]\n",
    "p3 = vic[voxel_count_width-1,0,0,3,:]\n",
    "p4 = vic[voxel_count_width-1,voxel_count_width-1,0,4,:]\n",
    "p5 = vic[voxel_count_width-1,voxel_count_width-1,voxel_count_width-1,5,:]\n",
    "p6 = vic[0,voxel_count_width-1,voxel_count_width-1,6,:]\n",
    "p7 = vic[0,voxel_count_width-1,0,7,:]\n",
    "\n",
    "lines = [\n",
    "    [tuple(p0), tuple(p1)],\n",
    "    [tuple(p1), tuple(p2)],\n",
    "    [tuple(p2), tuple(p3)],\n",
    "    [tuple(p3), tuple(p0)],\n",
    "    [tuple(p0), tuple(p7)],\n",
    "    [tuple(p1), tuple(p6)],\n",
    "    [tuple(p2), tuple(p5)],\n",
    "    [tuple(p3), tuple(p4)],\n",
    "    [tuple(p4), tuple(p5)],\n",
    "    [tuple(p5), tuple(p6)],\n",
    "    [tuple(p6), tuple(p7)],\n",
    "    [tuple(p7), tuple(p4)]\n",
    "]\n",
    "\n",
    "\n",
    "polygons = []\n",
    "for x in range(voxel_count_width):\n",
    "    for y in range(voxel_count_width):\n",
    "        for z in range(voxel_count_width):\n",
    "            if cube_matrix[x, y, z]:\n",
    "                voxel_vertex_image_coordinates = vic[x,y,z,:,:]\n",
    "                convex_hull = ConvexHull(voxel_vertex_image_coordinates)\n",
    "                polygon = Polygon(convex_hull.points[convex_hull.vertices], True)\n",
    "                polygons.append(polygon)\n",
    "\n",
    "\n",
    "fig, ax = plt.subplots(figsize=(10, 10))\n",
    "plt.xlim(-0.7, 0.7)\n",
    "plt.ylim(-0.7, 0.7)\n",
    "\n",
    "p = PatchCollection(polygons, cmap=matplotlib.cm.jet, alpha=1.0)\n",
    "l = LineCollection(lines)\n",
    "ax.add_collection(p)\n",
    "ax.add_collection(l)\n",
    "plt.show()  "
   ]
  },
  {
   "cell_type": "code",
   "execution_count": null,
   "metadata": {
    "collapsed": true
   },
   "outputs": [],
   "source": []
  },
  {
   "cell_type": "code",
   "execution_count": 209,
   "metadata": {
    "collapsed": true
   },
   "outputs": [],
   "source": [
    "vic_4 = get_cube_matrix_voxel_image_coordinates(np.pi / 4.0, 0, 0)\n",
    "vic_5 = get_cube_matrix_voxel_image_coordinates(0, -np.pi * 0.47, 0)"
   ]
  },
  {
   "cell_type": "code",
   "execution_count": 156,
   "metadata": {},
   "outputs": [
    {
     "data": {
      "text/plain": [
       "array([1, 1, 1, ..., 1, 1, 1])"
      ]
     },
     "execution_count": 156,
     "metadata": {},
     "output_type": "execute_result"
    }
   ],
   "source": [
    "cube_matrix[cube_matrix > 0]"
   ]
  },
  {
   "cell_type": "code",
   "execution_count": 163,
   "metadata": {},
   "outputs": [
    {
     "data": {
      "image/png": "[encoded data removed]",
      "text/plain": [
       "<matplotlib.figure.Figure at 0x6196d1350>"
      ]
     },
     "metadata": {},
     "output_type": "display_data"
    }
   ],
   "source": [
    "plt.hist(np.where(cube_matrix > 0)[0])\n",
    "plt.show()"
   ]
  },
  {
   "cell_type": "code",
   "execution_count": null,
   "metadata": {
    "collapsed": true
   },
   "outputs": [],
   "source": []
  }
 ],
 "metadata": {
  "kernelspec": {
   "display_name": "Python 2",
   "language": "python",
   "name": "python2"
  },
  "language_info": {
   "codemirror_mode": {
    "name": "ipython",
    "version": 2
   },
   "file_extension": ".py",
   "mimetype": "text/x-python",
   "name": "python",
   "nbconvert_exporter": "python",
   "pygments_lexer": "ipython2",
   "version": "2.7.14"
  }
 },
 "nbformat": 4,
 "nbformat_minor": 2
}
